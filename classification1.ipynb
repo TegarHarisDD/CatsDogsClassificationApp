{
 "cells": [
  {
   "cell_type": "code",
   "execution_count": 1,
   "id": "322831a8",
   "metadata": {},
   "outputs": [
    {
     "name": "stdout",
     "output_type": "stream",
     "text": [
      "Found 555 images belonging to 2 classes.\n",
      "Found 138 images belonging to 2 classes.\n",
      "Epoch 1/10\n",
      "18/18 [==============================] - 40s 759ms/step - loss: 0.6344 - accuracy: 0.7477 - val_loss: 0.5198 - val_accuracy: 0.8043\n",
      "Epoch 2/10\n",
      "18/18 [==============================] - 5s 299ms/step - loss: 0.5409 - accuracy: 0.7712 - val_loss: 0.5286 - val_accuracy: 0.7971\n",
      "Epoch 3/10\n",
      "18/18 [==============================] - 6s 305ms/step - loss: 0.5128 - accuracy: 0.7874 - val_loss: 0.5171 - val_accuracy: 0.7971\n",
      "Epoch 4/10\n",
      "18/18 [==============================] - 6s 326ms/step - loss: 0.4825 - accuracy: 0.7928 - val_loss: 0.5504 - val_accuracy: 0.7826\n",
      "Epoch 5/10\n",
      "18/18 [==============================] - 5s 306ms/step - loss: 0.4618 - accuracy: 0.7910 - val_loss: 0.5509 - val_accuracy: 0.7899\n",
      "Epoch 6/10\n",
      "18/18 [==============================] - 5s 301ms/step - loss: 0.4482 - accuracy: 0.7964 - val_loss: 0.5363 - val_accuracy: 0.7899\n",
      "Epoch 7/10\n",
      "18/18 [==============================] - 5s 303ms/step - loss: 0.4307 - accuracy: 0.8162 - val_loss: 0.5485 - val_accuracy: 0.7971\n",
      "Epoch 8/10\n",
      "18/18 [==============================] - 6s 303ms/step - loss: 0.4160 - accuracy: 0.8198 - val_loss: 0.5380 - val_accuracy: 0.7609\n",
      "Epoch 9/10\n",
      "18/18 [==============================] - 5s 290ms/step - loss: 0.4125 - accuracy: 0.8216 - val_loss: 0.5536 - val_accuracy: 0.7826\n",
      "Epoch 10/10\n",
      "18/18 [==============================] - 5s 291ms/step - loss: 0.3841 - accuracy: 0.8342 - val_loss: 0.5720 - val_accuracy: 0.7826\n"
     ]
    },
    {
     "name": "stderr",
     "output_type": "stream",
     "text": [
      "WARNING:absl:Found untraced functions such as _jit_compiled_convolution_op, _jit_compiled_convolution_op, _jit_compiled_convolution_op, _jit_compiled_convolution_op, _jit_compiled_convolution_op while saving (showing 5 of 52). These functions will not be directly callable after loading.\n"
     ]
    },
    {
     "name": "stdout",
     "output_type": "stream",
     "text": [
      "INFO:tensorflow:Assets written to: catdog_mobilenetv2_saved\\assets\n"
     ]
    },
    {
     "name": "stderr",
     "output_type": "stream",
     "text": [
      "INFO:tensorflow:Assets written to: catdog_mobilenetv2_saved\\assets\n"
     ]
    },
    {
     "name": "stdout",
     "output_type": "stream",
     "text": [
      "✅ Model disimpan di folder 'catdog_mobilenetv2_saved'\n"
     ]
    }
   ],
   "source": [
    "import tensorflow as tf\n",
    "from tensorflow.keras.preprocessing.image import ImageDataGenerator\n",
    "from tensorflow.keras.applications import MobileNetV2\n",
    "from tensorflow.keras.layers import Dense, GlobalAveragePooling2D\n",
    "from tensorflow.keras.models import Model\n",
    "\n",
    "# Konfigurasi\n",
    "IMG_SIZE = (128, 128)\n",
    "BATCH_SIZE = 32\n",
    "EPOCHS = 10\n",
    "DATA_DIR = \"data/\"\n",
    "\n",
    "# Data generator dengan augmentasi\n",
    "datagen = ImageDataGenerator(\n",
    "    rescale=1./255,\n",
    "    validation_split=0.2,\n",
    "    rotation_range=20,\n",
    "    horizontal_flip=True,\n",
    ")\n",
    "\n",
    "train_gen = datagen.flow_from_directory(\n",
    "    DATA_DIR,\n",
    "    target_size=IMG_SIZE,\n",
    "    batch_size=BATCH_SIZE,\n",
    "    class_mode='binary',\n",
    "    subset='training'\n",
    ")\n",
    "\n",
    "val_gen = datagen.flow_from_directory(\n",
    "    DATA_DIR,\n",
    "    target_size=IMG_SIZE,\n",
    "    batch_size=BATCH_SIZE,\n",
    "    class_mode='binary',\n",
    "    subset='validation'\n",
    ")\n",
    "\n",
    "# MobileNetV2 base\n",
    "base_model = MobileNetV2(input_shape=IMG_SIZE + (3,), include_top=False, weights='imagenet')\n",
    "base_model.trainable = False\n",
    "\n",
    "x = base_model.output\n",
    "x = GlobalAveragePooling2D()(x)\n",
    "x = Dense(1, activation='sigmoid')(x)\n",
    "\n",
    "model = Model(inputs=base_model.input, outputs=x)\n",
    "model.compile(optimizer='adam', loss='binary_crossentropy', metrics=['accuracy'])\n",
    "\n",
    "# Training\n",
    "model.fit(train_gen, validation_data=val_gen, epochs=EPOCHS)\n",
    "\n",
    "# Simpan model ke SavedModel format (direktori)\n",
    "model.save(\"catdog_mobilenetv2_saved\")\n",
    "print(\"✅ Model disimpan di folder 'catdog_mobilenetv2_saved'\")\n"
   ]
  }
 ],
 "metadata": {
  "kernelspec": {
   "display_name": "Python 3",
   "language": "python",
   "name": "python3"
  },
  "language_info": {
   "codemirror_mode": {
    "name": "ipython",
    "version": 3
   },
   "file_extension": ".py",
   "mimetype": "text/x-python",
   "name": "python",
   "nbconvert_exporter": "python",
   "pygments_lexer": "ipython3",
   "version": "3.10.11"
  }
 },
 "nbformat": 4,
 "nbformat_minor": 5
}
