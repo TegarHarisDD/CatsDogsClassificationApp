{
 "cells": [
  {
   "cell_type": "code",
   "execution_count": 6,
   "id": "7a9673c5",
   "metadata": {},
   "outputs": [],
   "source": [
    "import tensorflow as tf\n",
    "from tensorflow.keras.preprocessing.image import ImageDataGenerator\n",
    "from tensorflow.keras.applications import MobileNetV2\n",
    "from tensorflow.keras.layers import Dense, GlobalAveragePooling2D\n",
    "from tensorflow.keras.models import Model"
   ]
  },
  {
   "cell_type": "code",
   "execution_count": 7,
   "id": "8abae2e8",
   "metadata": {},
   "outputs": [],
   "source": [
    "# Config\n",
    "IMG_SIZE = (128,128)\n",
    "BATCH_SIZE = 32\n",
    "EPOCHS = 10\n",
    "DATA_DIR = \"data/\"\n",
    "\n",
    "# Data generators dengan augmentasi\n",
    "train_datagen = ImageDataGenerator(\n",
    "    rescale=1./255,\n",
    "    validation_split=0.2,\n",
    "    rotation_range=20,\n",
    "    horizontal_flip=True,\n",
    ")"
   ]
  },
  {
   "cell_type": "code",
   "execution_count": 8,
   "id": "8a041521",
   "metadata": {},
   "outputs": [
    {
     "name": "stdout",
     "output_type": "stream",
     "text": [
      "Found 555 images belonging to 2 classes.\n",
      "Found 138 images belonging to 2 classes.\n"
     ]
    }
   ],
   "source": [
    "train_gen = train_datagen.flow_from_directory(\n",
    "    DATA_DIR, target_size=IMG_SIZE, batch_size=BATCH_SIZE,\n",
    "    class_mode='binary', subset='training'\n",
    ")\n",
    "val_gen = train_datagen.flow_from_directory(\n",
    "    DATA_DIR, target_size=IMG_SIZE, batch_size=BATCH_SIZE,\n",
    "    class_mode='binary', subset='validation'\n",
    ")"
   ]
  },
  {
   "cell_type": "code",
   "execution_count": 9,
   "id": "230e8727",
   "metadata": {},
   "outputs": [
    {
     "name": "stdout",
     "output_type": "stream",
     "text": [
      "Epoch 1/10\n",
      "18/18 [==============================] - 9s 344ms/step - loss: 0.6696 - accuracy: 0.7423 - val_loss: 0.5678 - val_accuracy: 0.7754\n",
      "Epoch 2/10\n",
      "18/18 [==============================] - 5s 281ms/step - loss: 0.5447 - accuracy: 0.7622 - val_loss: 0.6100 - val_accuracy: 0.7754\n",
      "Epoch 3/10\n",
      "18/18 [==============================] - 5s 277ms/step - loss: 0.5092 - accuracy: 0.7982 - val_loss: 0.5875 - val_accuracy: 0.7826\n",
      "Epoch 4/10\n",
      "18/18 [==============================] - 5s 282ms/step - loss: 0.4877 - accuracy: 0.7910 - val_loss: 0.5746 - val_accuracy: 0.7899\n",
      "Epoch 5/10\n",
      "18/18 [==============================] - 5s 279ms/step - loss: 0.4768 - accuracy: 0.8108 - val_loss: 0.5560 - val_accuracy: 0.7826\n",
      "Epoch 6/10\n",
      "18/18 [==============================] - 5s 276ms/step - loss: 0.4546 - accuracy: 0.8126 - val_loss: 0.5992 - val_accuracy: 0.7826\n",
      "Epoch 7/10\n",
      "18/18 [==============================] - 5s 277ms/step - loss: 0.4374 - accuracy: 0.8126 - val_loss: 0.6114 - val_accuracy: 0.8116\n",
      "Epoch 8/10\n",
      "18/18 [==============================] - 5s 285ms/step - loss: 0.4130 - accuracy: 0.8144 - val_loss: 0.5709 - val_accuracy: 0.7754\n",
      "Epoch 9/10\n",
      "18/18 [==============================] - 5s 275ms/step - loss: 0.3994 - accuracy: 0.8180 - val_loss: 0.5835 - val_accuracy: 0.7971\n",
      "Epoch 10/10\n",
      "18/18 [==============================] - 5s 273ms/step - loss: 0.3976 - accuracy: 0.8252 - val_loss: 0.6041 - val_accuracy: 0.7971\n",
      "Model tersimpan: catdog_mobilenetv2.h5\n"
     ]
    }
   ],
   "source": [
    "# Base model MobileNetV2 tanpa top\n",
    "base = MobileNetV2(include_top=False, input_shape=IMG_SIZE + (3,), weights='imagenet')\n",
    "x = GlobalAveragePooling2D()(base.output)\n",
    "x = Dense(1, activation='sigmoid')(x)\n",
    "model = Model(base.input, x)\n",
    "\n",
    "# Freeze base\n",
    "base.trainable = False\n",
    "\n",
    "model.compile(optimizer='adam',\n",
    "              loss='binary_crossentropy',\n",
    "              metrics=['accuracy'])\n",
    "\n",
    "model.fit(train_gen,\n",
    "          validation_data=val_gen,\n",
    "          epochs=EPOCHS)\n",
    "\n",
    "# Simpan model\n",
    "model.save(\"catdog_mobilenetv2.h5\")\n",
    "print(\"Model tersimpan: catdog_mobilenetv2.h5\")"
   ]
  }
 ],
 "metadata": {
  "kernelspec": {
   "display_name": "Python 3",
   "language": "python",
   "name": "python3"
  },
  "language_info": {
   "codemirror_mode": {
    "name": "ipython",
    "version": 3
   },
   "file_extension": ".py",
   "mimetype": "text/x-python",
   "name": "python",
   "nbconvert_exporter": "python",
   "pygments_lexer": "ipython3",
   "version": "3.10.11"
  }
 },
 "nbformat": 4,
 "nbformat_minor": 5
}
